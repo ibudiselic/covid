{
 "cells": [
  {
   "cell_type": "markdown",
   "metadata": {},
   "source": [
    "# Please read the [README](https://github.com/ibudiselic/covid/blob/master/README.md) file in this repository."
   ]
  },
  {
   "cell_type": "code",
   "execution_count": 38,
   "metadata": {},
   "outputs": [],
   "source": [
    "# This shows the actual values on hover (in the bottom right of the chart), and similar basic interactivity.\n",
    "# It can be pretty slow for many countries, (if it is too slow, flip it to `False`).\n",
    "# If some charts don't render on the first run if using interactivity, run it again (yay JavaScript :).\n",
    "INTERACTIVE_PLOTS = True\n",
    "%run lib.ipynb\n",
    "\n",
    "# Modify this however you like, and then click 'Cell > Run All' in the top menu.\n",
    "# The country names must match the dataset exactly. To get a list of all the country names,\n",
    "# run the cell the cell at the bottom.\n",
    "countries_to_plot = [\"Croatia\", \"Switzerland\"]"
   ]
  },
  {
   "cell_type": "code",
   "execution_count": 35,
   "metadata": {},
   "outputs": [
    {
     "data": {
      "application/javascript": [
       "IPython.OutputArea.auto_scroll_threshold = 9999;\n"
      ],
      "text/plain": [
       "<IPython.core.display.Javascript object>"
      ]
     },
     "metadata": {},
     "output_type": "display_data"
    }
   ],
   "source": [
    "%%javascript\n",
    "IPython.OutputArea.auto_scroll_threshold = 9999;"
   ]
  },
  {
   "cell_type": "code",
   "execution_count": null,
   "metadata": {},
   "outputs": [],
   "source": [
    "# You can also modify these parameters if you like.\n",
    "# The dataset starts on 2020-01-22, so dates before that won't work.\n",
    "analyze_countries(absolute_date_comparison_start_date='2020-03-01', backpredict_days=5)"
   ]
  },
  {
   "cell_type": "code",
   "execution_count": 40,
   "metadata": {},
   "outputs": [
    {
     "name": "stdout",
     "output_type": "stream",
     "text": [
      "\"Afghanistan\"                 \"Albania\"                     \"Algeria\"                     \"Andorra\"                     \n",
      "\"Angola\"                      \"Antigua and Barbuda\"         \"Argentina\"                   \"Armenia\"                     \n",
      "\"Australia\"                   \"Austria\"                     \"Azerbaijan\"                  \"Bahrain\"                     \n",
      "\"Bangladesh\"                  \"Barbados\"                    \"Belarus\"                     \"Belgium\"                     \n",
      "\"Belize\"                      \"Benin\"                       \"Bhutan\"                      \"Bolivia\"                     \n",
      "\"Bosnia and Herzegovina\"      \"Botswana\"                    \"Brazil\"                      \"Brunei\"                      \n",
      "\"Bulgaria\"                    \"Burkina Faso\"                \"Burundi\"                     \"Cabo Verde\"                  \n",
      "\"Cambodia\"                    \"Cameroon\"                    \"Canada\"                      \"Central African Republic\"    \n",
      "\"Chad\"                        \"Chile\"                       \"China\"                       \"Colombia\"                    \n",
      "\"Comoros\"                     \"Congo (Brazzaville)\"         \"Congo (Kinshasa)\"            \"Costa Rica\"                  \n",
      "\"Cote d'Ivoire\"               \"Croatia\"                     \"Cuba\"                        \"Cyprus\"                      \n",
      "\"Czechia\"                     \"Denmark\"                     \"Djibouti\"                    \"Dominica\"                    \n",
      "\"Dominican Republic\"          \"Ecuador\"                     \"Egypt\"                       \"El Salvador\"                 \n",
      "\"Equatorial Guinea\"           \"Eritrea\"                     \"Estonia\"                     \"Ethiopia\"                    \n",
      "\"Fiji\"                        \"Finland\"                     \"France\"                      \"Gabon\"                       \n",
      "\"Georgia\"                     \"Germany\"                     \"Ghana\"                       \"Greece\"                      \n",
      "\"Grenada\"                     \"Guatemala\"                   \"Guinea\"                      \"Guinea-Bissau\"               \n",
      "\"Guyana\"                      \"Haiti\"                       \"Holy See\"                    \"Honduras\"                    \n",
      "\"Hungary\"                     \"Iceland\"                     \"India\"                       \"Indonesia\"                   \n",
      "\"Iran\"                        \"Iraq\"                        \"Ireland\"                     \"Israel\"                      \n",
      "\"Italy\"                       \"Jamaica\"                     \"Japan\"                       \"Jordan\"                      \n",
      "\"Kazakhstan\"                  \"Kenya\"                       \"Korea, South\"                \"Kuwait\"                      \n",
      "\"Kyrgyzstan\"                  \"Laos\"                        \"Latvia\"                      \"Lebanon\"                     \n",
      "\"Liberia\"                     \"Libya\"                       \"Liechtenstein\"               \"Lithuania\"                   \n",
      "\"Luxembourg\"                  \"Madagascar\"                  \"Malawi\"                      \"Malaysia\"                    \n",
      "\"Maldives\"                    \"Mali\"                        \"Malta\"                       \"Mauritania\"                  \n",
      "\"Mauritius\"                   \"Mexico\"                      \"Moldova\"                     \"Monaco\"                      \n",
      "\"Mongolia\"                    \"Montenegro\"                  \"Morocco\"                     \"Mozambique\"                  \n",
      "\"Namibia\"                     \"Nepal\"                       \"Netherlands\"                 \"New Zealand\"                 \n",
      "\"Nicaragua\"                   \"Niger\"                       \"Nigeria\"                     \"North Macedonia\"             \n",
      "\"Norway\"                      \"Oman\"                        \"Pakistan\"                    \"Panama\"                      \n",
      "\"Papua New Guinea\"            \"Paraguay\"                    \"Peru\"                        \"Philippines\"                 \n",
      "\"Poland\"                      \"Portugal\"                    \"Qatar\"                       \"Romania\"                     \n",
      "\"Russia\"                      \"Rwanda\"                      \"Saint Lucia\"                 \"Saint Vincent and the Grenadines\"\n",
      "\"San Marino\"                  \"Saudi Arabia\"                \"Senegal\"                     \"Serbia\"                      \n",
      "\"Seychelles\"                  \"Sierra Leone\"                \"Singapore\"                   \"Slovakia\"                    \n",
      "\"Slovenia\"                    \"Somalia\"                     \"South Africa\"                \"South Sudan\"                 \n",
      "\"Spain\"                       \"Sri Lanka\"                   \"Sudan\"                       \"Suriname\"                    \n",
      "\"Sweden\"                      \"Switzerland\"                 \"Syria\"                       \"Taiwan*\"                     \n",
      "\"Tajikistan\"                  \"Tanzania\"                    \"Thailand\"                    \"Timor-Leste\"                 \n",
      "\"Togo\"                        \"Trinidad and Tobago\"         \"Tunisia\"                     \"Turkey\"                      \n",
      "\"US\"                          \"Uganda\"                      \"Ukraine\"                     \"United Arab Emirates\"        \n",
      "\"United Kingdom\"              \"Uruguay\"                     \"Uzbekistan\"                  \"Venezuela\"                   \n",
      "\"Vietnam\"                     \"Western Sahara\"              \"Yemen\"                       \"Zambia\"                      \n",
      "\"Zimbabwe\"                    \n"
     ]
    }
   ],
   "source": [
    "# List of all available countries, for reference.\n",
    "countries_rows = []\n",
    "for i, c in enumerate(sorted(db.countries.keys())):\n",
    "    if i%4 == 0:\n",
    "        countries_rows.append([])\n",
    "    countries_rows[-1].append(f'\"{c}\"')\n",
    "for r in countries_rows:\n",
    "    print(''.join(c.ljust(30) for c in r))"
   ]
  }
 ],
 "metadata": {
  "hide_input": false,
  "kernelspec": {
   "display_name": "Python 3",
   "language": "python",
   "name": "python3"
  },
  "language_info": {
   "codemirror_mode": {
    "name": "ipython",
    "version": 3
   },
   "file_extension": ".py",
   "mimetype": "text/x-python",
   "name": "python",
   "nbconvert_exporter": "python",
   "pygments_lexer": "ipython3",
   "version": "3.8.2"
  },
  "toc": {
   "base_numbering": 1,
   "nav_menu": {},
   "number_sections": true,
   "sideBar": true,
   "skip_h1_title": true,
   "title_cell": "Table of Contents",
   "title_sidebar": "Contents",
   "toc_cell": true,
   "toc_position": {
    "height": "calc(100% - 180px)",
    "left": "10px",
    "top": "150px",
    "width": "165px"
   },
   "toc_section_display": true,
   "toc_window_display": false
  },
  "varInspector": {
   "cols": {
    "lenName": 16,
    "lenType": 16,
    "lenVar": 40
   },
   "kernels_config": {
    "python": {
     "delete_cmd_postfix": "",
     "delete_cmd_prefix": "del ",
     "library": "var_list.py",
     "varRefreshCmd": "print(var_dic_list())"
    },
    "r": {
     "delete_cmd_postfix": ") ",
     "delete_cmd_prefix": "rm(",
     "library": "var_list.r",
     "varRefreshCmd": "cat(var_dic_list()) "
    }
   },
   "types_to_exclude": [
    "module",
    "function",
    "builtin_function_or_method",
    "instance",
    "_Feature"
   ],
   "window_display": false
  }
 },
 "nbformat": 4,
 "nbformat_minor": 4
}
