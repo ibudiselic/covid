{
 "cells": [
  {
   "cell_type": "markdown",
   "metadata": {},
   "source": [
    "# Please read the [README](https://github.com/ibudiselic/covid/blob/master/README.md) file in this repository."
   ]
  },
  {
   "cell_type": "code",
   "execution_count": null,
   "metadata": {
    "execution": {
     "iopub.execute_input": "2022-01-15T12:19:10.005852Z",
     "iopub.status.busy": "2022-01-15T12:19:10.005852Z",
     "iopub.status.idle": "2022-01-15T12:19:10.806437Z",
     "shell.execute_reply": "2022-01-15T12:19:10.806935Z"
    }
   },
   "outputs": [],
   "source": [
    "# Interactive plots make it difficult to update this automatically from the command line.\n",
    "# This can be switched to `True` in Binder to get interactive plots, though.\n",
    "INTERACTIVE_PLOTS = False\n",
    "\n",
    "# Load all the data and functionality.\n",
    "%run lib.ipynb\n",
    "\n",
    "countries_to_plot = ['Croatia', 'Switzerland']"
   ]
  },
  {
   "cell_type": "code",
   "execution_count": null,
   "metadata": {
    "execution": {
     "iopub.execute_input": "2022-01-15T12:19:10.809437Z",
     "iopub.status.busy": "2022-01-15T12:19:10.808937Z",
     "iopub.status.idle": "2022-01-15T12:19:10.821937Z",
     "shell.execute_reply": "2022-01-15T12:19:10.822437Z"
    }
   },
   "outputs": [],
   "source": [
    "%%javascript\n",
    "IPython.OutputArea.auto_scroll_threshold = 9999;"
   ]
  },
  {
   "cell_type": "code",
   "execution_count": null,
   "metadata": {
    "execution": {
     "iopub.execute_input": "2022-01-15T12:19:10.823937Z",
     "iopub.status.busy": "2022-01-15T12:19:10.823437Z",
     "iopub.status.idle": "2022-01-15T12:19:15.580309Z",
     "shell.execute_reply": "2022-01-15T12:19:15.580808Z"
    }
   },
   "outputs": [],
   "source": [
    "analyze_countries(absolute_date_comparison_start_date='2020-03-01')"
   ]
  }
 ],
 "metadata": {
  "hide_input": false,
  "kernelspec": {
   "display_name": "Python 3 (ipykernel)",
   "language": "python",
   "name": "python3"
  },
  "language_info": {
   "codemirror_mode": {
    "name": "ipython",
    "version": 3
   },
   "file_extension": ".py",
   "mimetype": "text/x-python",
   "name": "python",
   "nbconvert_exporter": "python",
   "pygments_lexer": "ipython3",
   "version": "3.10.1"
  },
  "toc": {
   "base_numbering": 1,
   "nav_menu": {},
   "number_sections": true,
   "sideBar": true,
   "skip_h1_title": true,
   "title_cell": "Table of Contents",
   "title_sidebar": "Contents",
   "toc_cell": true,
   "toc_position": {
    "height": "calc(100% - 180px)",
    "left": "10px",
    "top": "150px",
    "width": "165px"
   },
   "toc_section_display": true,
   "toc_window_display": false
  },
  "varInspector": {
   "cols": {
    "lenName": 16,
    "lenType": 16,
    "lenVar": 40
   },
   "kernels_config": {
    "python": {
     "delete_cmd_postfix": "",
     "delete_cmd_prefix": "del ",
     "library": "var_list.py",
     "varRefreshCmd": "print(var_dic_list())"
    },
    "r": {
     "delete_cmd_postfix": ") ",
     "delete_cmd_prefix": "rm(",
     "library": "var_list.r",
     "varRefreshCmd": "cat(var_dic_list()) "
    }
   },
   "types_to_exclude": [
    "module",
    "function",
    "builtin_function_or_method",
    "instance",
    "_Feature"
   ],
   "window_display": false
  }
 },
 "nbformat": 4,
 "nbformat_minor": 4
}
