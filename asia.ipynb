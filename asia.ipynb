{
 "cells": [
  {
   "cell_type": "markdown",
   "metadata": {},
   "source": [
    "# Please read the [README](https://github.com/ibudiselic/covid/blob/master/README.md) file in this repository."
   ]
  },
  {
   "cell_type": "code",
   "execution_count": null,
   "metadata": {
    "execution": {
     "iopub.execute_input": "2022-01-29T12:26:05.410429Z",
     "iopub.status.busy": "2022-01-29T12:26:05.409929Z",
     "iopub.status.idle": "2022-01-29T12:26:06.226402Z",
     "shell.execute_reply": "2022-01-29T12:26:06.226402Z"
    }
   },
   "outputs": [],
   "source": [
    "# Interactive plots make it difficult to update this automatically from the command line.\n",
    "# This can be switched to `True` in Binder to get interactive plots, though.\n",
    "INTERACTIVE_PLOTS = False\n",
    "\n",
    "# Load all the data and functionality.\n",
    "%run lib.ipynb\n",
    "\n",
    "nb_continent = 'Asia'\n",
    "display(Markdown(f'# Analysis of the most affected countries in {nb_continent}'))\n",
    "countries_to_plot = get_top_countries_by_relative_deaths(continent=nb_continent)"
   ]
  },
  {
   "cell_type": "code",
   "execution_count": null,
   "metadata": {
    "execution": {
     "iopub.execute_input": "2022-01-29T12:26:06.228904Z",
     "iopub.status.busy": "2022-01-29T12:26:06.228403Z",
     "iopub.status.idle": "2022-01-29T12:26:06.241277Z",
     "shell.execute_reply": "2022-01-29T12:26:06.241778Z"
    }
   },
   "outputs": [],
   "source": [
    "%%javascript\n",
    "IPython.OutputArea.auto_scroll_threshold = 9999;"
   ]
  },
  {
   "cell_type": "code",
   "execution_count": null,
   "metadata": {
    "execution": {
     "iopub.execute_input": "2022-01-29T12:26:06.243778Z",
     "iopub.status.busy": "2022-01-29T12:26:06.243278Z",
     "iopub.status.idle": "2022-01-29T12:26:18.037277Z",
     "shell.execute_reply": "2022-01-29T12:26:18.037277Z"
    }
   },
   "outputs": [],
   "source": [
    "analyze_countries(absolute_date_comparison_start_date='2020-02-15')"
   ]
  },
  {
   "cell_type": "markdown",
   "metadata": {},
   "source": [
    "# Recovering countries that had over 300 active cases at peak"
   ]
  },
  {
   "cell_type": "code",
   "execution_count": null,
   "metadata": {
    "execution": {
     "iopub.execute_input": "2022-01-29T12:26:18.039279Z",
     "iopub.status.busy": "2022-01-29T12:26:18.039279Z",
     "iopub.status.idle": "2022-01-29T12:26:18.052778Z",
     "shell.execute_reply": "2022-01-29T12:26:18.052778Z"
    }
   },
   "outputs": [],
   "source": [
    "draw_recovering_countries(get_recovering_countries_info(continent=nb_continent))"
   ]
  }
 ],
 "metadata": {
  "hide_input": false,
  "kernelspec": {
   "display_name": "Python 3",
   "language": "python",
   "name": "python3"
  },
  "language_info": {
   "codemirror_mode": {
    "name": "ipython",
    "version": 3
   },
   "file_extension": ".py",
   "mimetype": "text/x-python",
   "name": "python",
   "nbconvert_exporter": "python",
   "pygments_lexer": "ipython3",
   "version": "3.10.1"
  },
  "toc": {
   "base_numbering": 1,
   "nav_menu": {},
   "number_sections": true,
   "sideBar": true,
   "skip_h1_title": true,
   "title_cell": "Table of Contents",
   "title_sidebar": "Contents",
   "toc_cell": true,
   "toc_position": {
    "height": "calc(100% - 180px)",
    "left": "10px",
    "top": "150px",
    "width": "165px"
   },
   "toc_section_display": true,
   "toc_window_display": false
  },
  "varInspector": {
   "cols": {
    "lenName": 16,
    "lenType": 16,
    "lenVar": 40
   },
   "kernels_config": {
    "python": {
     "delete_cmd_postfix": "",
     "delete_cmd_prefix": "del ",
     "library": "var_list.py",
     "varRefreshCmd": "print(var_dic_list())"
    },
    "r": {
     "delete_cmd_postfix": ") ",
     "delete_cmd_prefix": "rm(",
     "library": "var_list.r",
     "varRefreshCmd": "cat(var_dic_list()) "
    }
   },
   "types_to_exclude": [
    "module",
    "function",
    "builtin_function_or_method",
    "instance",
    "_Feature"
   ],
   "window_display": false
  }
 },
 "nbformat": 4,
 "nbformat_minor": 4
}
